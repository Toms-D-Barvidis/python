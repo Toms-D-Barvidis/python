{
 "cells": [
  {
   "cell_type": "markdown",
   "metadata": {},
   "source": [
    "# Python"
   ]
  },
  {
   "cell_type": "markdown",
   "metadata": {},
   "source": [
    "##Introduction"
   ]
  },
  {
   "cell_type": "markdown",
   "metadata": {},
   "source": [
    "Python is a high-level interpreted programming language.\n",
    "```python\n",
    "print(\"Get in, loser!\")\n",
    "```"
   ]
  },
  {
   "cell_type": "markdown",
   "metadata": {},
   "source": [
    "Links in Markdown:\n",
    "\n",
    "[Text to display] (http://google.com)\n",
    "Just delete the space between the square and round brackets."
   ]
  },
  {
   "cell_type": "markdown",
   "metadata": {},
   "source": [
    "Lists in markdown: just add items with an asterisk.\n",
    "\n",
    "This is a code cell:"
   ]
  },
  {
   "cell_type": "code",
   "execution_count": null,
   "metadata": {},
   "outputs": [],
   "source": [
    "i = 0\n",
    "greeting = \"Hello, World!\"\n",
    "print(greeting)"
   ]
  },
  {
   "cell_type": "markdown",
   "metadata": {},
   "source": [
    "##Variables\n",
    "\n",
    "No need to indicated data types, yay.\n",
    "Just go\n",
    "```python\n",
    "variable = \"value\"\n",
    "new_variable = 15\n",
    "```\n",
    "\n",
    "For naming, use snake_case and descriptive English word, but don't do names that are too long.\n",
    "\n",
    "So, theres integers, floats, strings, array-like thingies (covered later!) and booleans, of course.\n"
   ]
  },
  {
   "cell_type": "code",
   "execution_count": 31,
   "metadata": {},
   "outputs": [
    {
     "name": "stdout",
     "output_type": "stream",
     "text": [
      "14\n",
      "False\n"
     ]
    }
   ],
   "source": [
    "\n",
    "i += 1\n",
    "print(i)\n",
    "\n",
    "is_summer = False\n",
    "print(is_summer)"
   ]
  },
  {
   "cell_type": "markdown",
   "metadata": {},
   "source": []
  }
 ],
 "metadata": {
  "kernelspec": {
   "display_name": "Python 3",
   "language": "python",
   "name": "python3"
  },
  "language_info": {
   "codemirror_mode": {
    "name": "ipython",
    "version": 3
   },
   "file_extension": ".py",
   "mimetype": "text/x-python",
   "name": "python",
   "nbconvert_exporter": "python",
   "pygments_lexer": "ipython3",
   "version": "3.11.9"
  }
 },
 "nbformat": 4,
 "nbformat_minor": 2
}
